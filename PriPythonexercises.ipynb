{
 "cells": [
  {
   "cell_type": "code",
   "execution_count": 1,
   "id": "02724278",
   "metadata": {},
   "outputs": [
    {
     "name": "stdout",
     "output_type": "stream",
     "text": [
      "A sentença é verdadeira\n"
     ]
    }
   ],
   "source": [
    "if 5 > 2:\n",
    "    print(\"A sentença é verdadeira\")"
   ]
  },
  {
   "cell_type": "code",
   "execution_count": 3,
   "id": "d93a0121",
   "metadata": {},
   "outputs": [
    {
     "name": "stdout",
     "output_type": "stream",
     "text": [
      "A sentença é falsa\n"
     ]
    }
   ],
   "source": [
    "if 5 < 2:\n",
    "    print(\"A sentença é verdadeira\")\n",
    "else: \n",
    "    print(\"A sentença é falsa\")"
   ]
  },
  {
   "cell_type": "code",
   "execution_count": 6,
   "id": "a5d63b69",
   "metadata": {},
   "outputs": [
    {
     "name": "stdout",
     "output_type": "stream",
     "text": [
      "Hoje vai chover\n"
     ]
    }
   ],
   "source": [
    "dia = \"terça-feira\"\n",
    "if dia ==\"segunda-feira\":\n",
    "    print (\"Hoje fará sol\")\n",
    "else:\n",
    "    print (\"Hoje vai chover\")"
   ]
  },
  {
   "cell_type": "code",
   "execution_count": 8,
   "id": "ee5646d3",
   "metadata": {},
   "outputs": [
    {
     "name": "stdout",
     "output_type": "stream",
     "text": [
      "Não há previsão do tempo para o dia selecionado\n"
     ]
    }
   ],
   "source": [
    "dia = \"quinta-feira\"\n",
    "if dia ==\"segunda-feira\":\n",
    "    print (\"Hoje fará sol\")\n",
    "elif dia ==\"terça-feira\":\n",
    "    print (\"Hoje vai chover\")\n",
    "else:\n",
    "    print (\"Não há previsão do tempo para o dia selecionado\")"
   ]
  },
  {
   "cell_type": "code",
   "execution_count": 9,
   "id": "c2829e46",
   "metadata": {},
   "outputs": [
    {
     "data": {
      "text/plain": [
       "True"
      ]
     },
     "execution_count": 9,
     "metadata": {},
     "output_type": "execute_result"
    }
   ],
   "source": [
    "6 > 3"
   ]
  },
  {
   "cell_type": "code",
   "execution_count": 10,
   "id": "daccab05",
   "metadata": {},
   "outputs": [
    {
     "data": {
      "text/plain": [
       "False"
      ]
     },
     "execution_count": 10,
     "metadata": {},
     "output_type": "execute_result"
    }
   ],
   "source": [
    "3 > 7"
   ]
  },
  {
   "cell_type": "code",
   "execution_count": 11,
   "id": "8795d029",
   "metadata": {},
   "outputs": [
    {
     "data": {
      "text/plain": [
       "True"
      ]
     },
     "execution_count": 11,
     "metadata": {},
     "output_type": "execute_result"
    }
   ],
   "source": [
    "4 < 8"
   ]
  },
  {
   "cell_type": "code",
   "execution_count": 12,
   "id": "b12a976f",
   "metadata": {},
   "outputs": [
    {
     "data": {
      "text/plain": [
       "True"
      ]
     },
     "execution_count": 12,
     "metadata": {},
     "output_type": "execute_result"
    }
   ],
   "source": [
    "4 >= 4"
   ]
  },
  {
   "cell_type": "code",
   "execution_count": 13,
   "id": "3d70aa15",
   "metadata": {},
   "outputs": [
    {
     "data": {
      "text/plain": [
       "True"
      ]
     },
     "execution_count": 13,
     "metadata": {},
     "output_type": "execute_result"
    }
   ],
   "source": [
    "5 == 5"
   ]
  },
  {
   "cell_type": "code",
   "execution_count": 14,
   "id": "14f4fe69",
   "metadata": {},
   "outputs": [
    {
     "name": "stdout",
     "output_type": "stream",
     "text": [
      "Testando Python\n"
     ]
    }
   ],
   "source": [
    "if 5 == 5:\n",
    "    print (\"Testando Python\")"
   ]
  },
  {
   "cell_type": "code",
   "execution_count": 15,
   "id": "33419d29",
   "metadata": {},
   "outputs": [
    {
     "name": "stdout",
     "output_type": "stream",
     "text": [
      "Você pode dirigir!\n"
     ]
    }
   ],
   "source": [
    "idade = 18\n",
    "if idade > 17:\n",
    "    print(\"Você pode dirigir!\")"
   ]
  },
  {
   "cell_type": "code",
   "execution_count": 19,
   "id": "0f9c5c2f",
   "metadata": {},
   "outputs": [
    {
     "name": "stdout",
     "output_type": "stream",
     "text": [
      "Ok Bob, você está autorizado a entrar!\n"
     ]
    }
   ],
   "source": [
    "nome = \"Bob\"\n",
    "if idade > 13:\n",
    "    if nome == \"Bob\":\n",
    "        print(\"Ok Bob, você está autorizado a entrar!\")\n",
    "else:\n",
    "    print(\"Desculpe, você não está autorizado a entrar!\")"
   ]
  },
  {
   "cell_type": "code",
   "execution_count": 20,
   "id": "e8debfbc",
   "metadata": {},
   "outputs": [
    {
     "name": "stdout",
     "output_type": "stream",
     "text": [
      "Ok Bob, você está autorizado a entrar!\n"
     ]
    }
   ],
   "source": [
    "nome = \"Bob\"\n",
    "idade = 13\n",
    "if idade >= 13 and nome == \"Bob\":\n",
    "        print(\"Ok Bob, você está autorizado a entrar!\")\n",
    "else:\n",
    "    print(\"Desculpe, você não está autorizado a entrar!\")"
   ]
  },
  {
   "cell_type": "code",
   "execution_count": 21,
   "id": "29c94fdb",
   "metadata": {},
   "outputs": [
    {
     "name": "stdout",
     "output_type": "stream",
     "text": [
      "Ok Bob, você está autorizado a entrar!\n"
     ]
    }
   ],
   "source": [
    "nome = \"Bob\"\n",
    "idade = 13\n",
    "if (idade >= 13) or (nome == \"Bob\"):\n",
    "        print(\"Ok Bob, você está autorizado a entrar!\")\n",
    "else:\n",
    "    print(\"Desculpe, você não está autorizado a entrar!\")"
   ]
  },
  {
   "cell_type": "code",
   "execution_count": 22,
   "id": "744615b7",
   "metadata": {},
   "outputs": [
    {
     "name": "stdout",
     "output_type": "stream",
     "text": [
      "Você pode dirigir!\n"
     ]
    }
   ],
   "source": [
    "nome = \"Bob\"\n",
    "idade = 18\n",
    "if idade > 17:\n",
    "    print(\"Você pode dirigir!\")"
   ]
  },
  {
   "cell_type": "code",
   "execution_count": 23,
   "id": "87bf314d",
   "metadata": {},
   "outputs": [
    {
     "name": "stdout",
     "output_type": "stream",
     "text": [
      "Autorizado!\n"
     ]
    }
   ],
   "source": [
    "nome = \"Bob\"\n",
    "idade = 18\n",
    "if idade > 17 and nome == \"Bob\":\n",
    "    print(\"Autorizado!\")"
   ]
  },
  {
   "cell_type": "code",
   "execution_count": 27,
   "id": "afffdcbc",
   "metadata": {},
   "outputs": [
    {
     "name": "stdout",
     "output_type": "stream",
     "text": [
      "Isso está sendo impresso porque as duas condições são verdadeiras\n"
     ]
    }
   ],
   "source": [
    "numero = 4\n",
    "if (numero > 2) and (numero % 2 == 0):\n",
    "    print (\"Isso está sendo impresso porque as duas condições são verdadeiras\")\n",
    "else:\n",
    "    print (\"Isso está sendo impresso porque umas das condições é falsa\")"
   ]
  },
  {
   "cell_type": "code",
   "execution_count": 28,
   "id": "91c721ae",
   "metadata": {},
   "outputs": [
    {
     "name": "stdout",
     "output_type": "stream",
     "text": [
      "Isso está sendo impresso porque umas das condições é falsa\n"
     ]
    }
   ],
   "source": [
    "numero = 4\n",
    "if (numero > 5) and (numero % 2 == 0):\n",
    "    print (\"Isso está sendo impresso porque as duas condições são verdadeiras\")\n",
    "else:\n",
    "    print (\"Isso está sendo impresso porque umas das condições é falsa\")"
   ]
  },
  {
   "cell_type": "code",
   "execution_count": 29,
   "id": "f4f8e592",
   "metadata": {},
   "outputs": [
    {
     "name": "stdout",
     "output_type": "stream",
     "text": [
      "Isso está sendo impresso porque uma das condições é verdadeira\n"
     ]
    }
   ],
   "source": [
    "numero = 4\n",
    "if (numero > 5) or (numero % 2 == 0):\n",
    "    print (\"Isso está sendo impresso porque uma das condições é verdadeira\")"
   ]
  },
  {
   "cell_type": "code",
   "execution_count": 30,
   "id": "07256e61",
   "metadata": {},
   "outputs": [
    {
     "name": "stdout",
     "output_type": "stream",
     "text": [
      "Isso está sendo impresso porque as duas condições são verdadeiras\n"
     ]
    }
   ],
   "source": [
    "numero = 4\n",
    "if not(numero > 5) and (numero % 2 == 0):\n",
    "    print (\"Isso está sendo impresso porque as duas condições são verdadeiras\")\n",
    "else:\n",
    "    print (\"Isso está sendo impresso porque umas das condições é falsa\")"
   ]
  },
  {
   "cell_type": "code",
   "execution_count": 33,
   "id": "23adb963",
   "metadata": {},
   "outputs": [
    {
     "name": "stdout",
     "output_type": "stream",
     "text": [
      "Isso está sendo impresso porque as duas primeiras condições são verdadeiras ou a terceira é verdadeira\n"
     ]
    }
   ],
   "source": [
    "numero = 4\n",
    "if (not (numero > 5) and (numero % 2 == 0)) or (numero == 4):\n",
    "    print (\"Isso está sendo impresso porque as duas primeiras condições são verdadeiras ou a terceira é verdadeira\")"
   ]
  },
  {
   "cell_type": "code",
   "execution_count": 1,
   "id": "379a0cb8",
   "metadata": {},
   "outputs": [
    {
     "name": "stdout",
     "output_type": "stream",
     "text": [
      "Você foi aprovado!\n"
     ]
    }
   ],
   "source": [
    "disciplina = 'Data Science'\n",
    "nota_final = 70\n",
    "\n",
    "if disciplina == 'Data Science' and nota_final >= 70:\n",
    "    print('Você foi aprovado!')\n",
    "else:\n",
    "    print('Lamento, acho que você precisa estudar mais!')"
   ]
  },
  {
   "cell_type": "code",
   "execution_count": 2,
   "id": "a9109262",
   "metadata": {},
   "outputs": [
    {
     "name": "stdout",
     "output_type": "stream",
     "text": [
      "Lamento, acho que você precisa estudar mais!\n"
     ]
    }
   ],
   "source": [
    "disciplina = 'Data Science'\n",
    "nota_final = 60\n",
    "\n",
    "if disciplina == 'Data Science' and nota_final >= 70:\n",
    "    print('Você foi aprovado!')\n",
    "else:\n",
    "    print('Lamento, acho que você precisa estudar mais!')"
   ]
  },
  {
   "cell_type": "code",
   "execution_count": 4,
   "id": "fdb14c0c",
   "metadata": {},
   "outputs": [
    {
     "name": "stdout",
     "output_type": "stream",
     "text": [
      "Você foi aprovado em Data Science com média final de 90!\n"
     ]
    }
   ],
   "source": [
    "disciplina = 'Data Science'\n",
    "nota_final = 90\n",
    "semestre = 2\n",
    "\n",
    "if disciplina == 'Data Science' and nota_final >= 70 and semestre != 1:\n",
    "    print('Você foi aprovado em %s com média final de %r!' %(disciplina, nota_final))\n",
    "else:\n",
    "    print('Lamento, acho que você precisa estudar mais!')"
   ]
  },
  {
   "cell_type": "code",
   "execution_count": 5,
   "id": "ef53255a",
   "metadata": {},
   "outputs": [
    {
     "name": "stdout",
     "output_type": "stream",
     "text": [
      "2\n",
      "3\n",
      "4\n"
     ]
    }
   ],
   "source": [
    "tp = (2,3,4)\n",
    "for i in tp:\n",
    "    print(i)"
   ]
  },
  {
   "cell_type": "code",
   "execution_count": 6,
   "id": "c6524573",
   "metadata": {},
   "outputs": [
    {
     "name": "stdout",
     "output_type": "stream",
     "text": [
      "Data\n",
      "Science\n",
      "Academy\n"
     ]
    }
   ],
   "source": [
    "ListaDeStrings = [\"Data\", \"Science\", \"Academy\"]\n",
    "for i in ListaDeStrings:\n",
    "    print (i)"
   ]
  },
  {
   "cell_type": "code",
   "execution_count": 7,
   "id": "8d1c664a",
   "metadata": {},
   "outputs": [
    {
     "name": "stdout",
     "output_type": "stream",
     "text": [
      "0\n",
      "1\n",
      "2\n",
      "3\n",
      "4\n"
     ]
    }
   ],
   "source": [
    "for contador in range(0,5):\n",
    "    print(contador)"
   ]
  },
  {
   "cell_type": "code",
   "execution_count": 11,
   "id": "cc7f6853",
   "metadata": {},
   "outputs": [
    {
     "name": "stdout",
     "output_type": "stream",
     "text": [
      "2\n",
      "4\n",
      "6\n",
      "8\n",
      "10\n"
     ]
    }
   ],
   "source": [
    "lista = [1,2,3,4,5,6,7,8,9,10]\n",
    "for num in lista:\n",
    "    if num % 2 == 0:\n",
    "        print (num)"
   ]
  },
  {
   "cell_type": "code",
   "execution_count": 13,
   "id": "2e58048e",
   "metadata": {},
   "outputs": [
    {
     "name": "stdout",
     "output_type": "stream",
     "text": [
      "0\n",
      "2\n",
      "4\n",
      "6\n",
      "8\n",
      "10\n",
      "12\n",
      "14\n",
      "16\n",
      "18\n",
      "20\n",
      "22\n",
      "24\n",
      "26\n",
      "28\n",
      "30\n",
      "32\n",
      "34\n",
      "36\n",
      "38\n",
      "40\n",
      "42\n",
      "44\n",
      "46\n",
      "48\n",
      "50\n",
      "52\n",
      "54\n",
      "56\n",
      "58\n",
      "60\n",
      "62\n",
      "64\n",
      "66\n",
      "68\n",
      "70\n",
      "72\n",
      "74\n",
      "76\n",
      "78\n",
      "80\n",
      "82\n",
      "84\n",
      "86\n",
      "88\n",
      "90\n",
      "92\n",
      "94\n",
      "96\n",
      "98\n",
      "100\n"
     ]
    }
   ],
   "source": [
    "for i in range(0,101,2):\n",
    "    print (i)"
   ]
  },
  {
   "cell_type": "code",
   "execution_count": 16,
   "id": "934a1522",
   "metadata": {},
   "outputs": [
    {
     "name": "stdout",
     "output_type": "stream",
     "text": [
      "P\n",
      "y\n",
      "t\n",
      "h\n",
      "o\n",
      "n\n",
      " \n",
      "é\n",
      " \n",
      "u\n",
      "m\n",
      "a\n",
      " \n",
      "l\n",
      "i\n",
      "n\n",
      "g\n",
      "u\n",
      "a\n",
      "g\n",
      "e\n",
      "m\n",
      " \n",
      "d\n",
      "e\n",
      " \n",
      "p\n",
      "r\n",
      "o\n",
      "g\n",
      "r\n",
      "a\n",
      "m\n",
      "a\n",
      "ç\n",
      "ã\n",
      "o\n",
      " \n",
      "d\n",
      "i\n",
      "v\n",
      "e\n",
      "r\n",
      "t\n",
      "i\n",
      "d\n",
      "a\n"
     ]
    }
   ],
   "source": [
    "for caracter in (\"Python é uma linguagem de programação divertida\"):\n",
    "    print (caracter)"
   ]
  },
  {
   "cell_type": "code",
   "execution_count": null,
   "id": "4e07c226",
   "metadata": {},
   "outputs": [],
   "source": []
  }
 ],
 "metadata": {
  "kernelspec": {
   "display_name": "Python 3 (ipykernel)",
   "language": "python",
   "name": "python3"
  },
  "language_info": {
   "codemirror_mode": {
    "name": "ipython",
    "version": 3
   },
   "file_extension": ".py",
   "mimetype": "text/x-python",
   "name": "python",
   "nbconvert_exporter": "python",
   "pygments_lexer": "ipython3",
   "version": "3.9.13"
  }
 },
 "nbformat": 4,
 "nbformat_minor": 5
}
